{
  "nbformat": 4,
  "nbformat_minor": 0,
  "metadata": {
    "colab": {
      "name": "fault-detection.ipynb",
      "provenance": []
    },
    "kernelspec": {
      "name": "python3",
      "display_name": "Python 3"
    }
  },
  "cells": [
    {
      "cell_type": "code",
      "metadata": {
        "id": "sZeDpUWtYIny",
        "colab_type": "code",
        "colab": {}
      },
      "source": [
        "import numpy as np\n",
        "import sklearn as sk\n",
        "import pandas as pd\n",
        "import matplotlib.pyplot as plt\n",
        "from sklearn.preprocessing import scale"
      ],
      "execution_count": 0,
      "outputs": []
    },
    {
      "cell_type": "code",
      "metadata": {
        "id": "zlB3M40CYOn9",
        "colab_type": "code",
        "colab": {
          "base_uri": "https://localhost:8080/",
          "height": 224
        },
        "outputId": "ca58ba4d-3a5b-4638-d43a-ea52cf38b815"
      },
      "source": [
        "df = pd.read_csv('creditcard.csv', low_memory=False)\n",
        "df = df.sample(frac=1).reset_index(drop=True)\n",
        "df.head()"
      ],
      "execution_count": 2,
      "outputs": [
        {
          "output_type": "execute_result",
          "data": {
            "text/html": [
              "<div>\n",
              "<style scoped>\n",
              "    .dataframe tbody tr th:only-of-type {\n",
              "        vertical-align: middle;\n",
              "    }\n",
              "\n",
              "    .dataframe tbody tr th {\n",
              "        vertical-align: top;\n",
              "    }\n",
              "\n",
              "    .dataframe thead th {\n",
              "        text-align: right;\n",
              "    }\n",
              "</style>\n",
              "<table border=\"1\" class=\"dataframe\">\n",
              "  <thead>\n",
              "    <tr style=\"text-align: right;\">\n",
              "      <th></th>\n",
              "      <th>Time</th>\n",
              "      <th>V1</th>\n",
              "      <th>V2</th>\n",
              "      <th>V3</th>\n",
              "      <th>V4</th>\n",
              "      <th>V5</th>\n",
              "      <th>V6</th>\n",
              "      <th>V7</th>\n",
              "      <th>V8</th>\n",
              "      <th>V9</th>\n",
              "      <th>V10</th>\n",
              "      <th>V11</th>\n",
              "      <th>V12</th>\n",
              "      <th>V13</th>\n",
              "      <th>V14</th>\n",
              "      <th>V15</th>\n",
              "      <th>V16</th>\n",
              "      <th>V17</th>\n",
              "      <th>V18</th>\n",
              "      <th>V19</th>\n",
              "      <th>V20</th>\n",
              "      <th>V21</th>\n",
              "      <th>V22</th>\n",
              "      <th>V23</th>\n",
              "      <th>V24</th>\n",
              "      <th>V25</th>\n",
              "      <th>V26</th>\n",
              "      <th>V27</th>\n",
              "      <th>V28</th>\n",
              "      <th>Amount</th>\n",
              "      <th>Class</th>\n",
              "    </tr>\n",
              "  </thead>\n",
              "  <tbody>\n",
              "    <tr>\n",
              "      <th>0</th>\n",
              "      <td>155350.0</td>\n",
              "      <td>1.692558</td>\n",
              "      <td>-0.683299</td>\n",
              "      <td>-0.828447</td>\n",
              "      <td>1.107049</td>\n",
              "      <td>-0.122735</td>\n",
              "      <td>0.470620</td>\n",
              "      <td>-0.335619</td>\n",
              "      <td>0.185138</td>\n",
              "      <td>0.791440</td>\n",
              "      <td>0.285202</td>\n",
              "      <td>-0.276464</td>\n",
              "      <td>0.283632</td>\n",
              "      <td>-0.729809</td>\n",
              "      <td>0.379739</td>\n",
              "      <td>-0.040668</td>\n",
              "      <td>0.855577</td>\n",
              "      <td>-1.178863</td>\n",
              "      <td>0.684490</td>\n",
              "      <td>0.167290</td>\n",
              "      <td>0.022490</td>\n",
              "      <td>-0.151254</td>\n",
              "      <td>-0.719510</td>\n",
              "      <td>0.129174</td>\n",
              "      <td>-1.255650</td>\n",
              "      <td>-0.370094</td>\n",
              "      <td>-0.940293</td>\n",
              "      <td>0.017477</td>\n",
              "      <td>-0.023034</td>\n",
              "      <td>154.00</td>\n",
              "      <td>0</td>\n",
              "    </tr>\n",
              "    <tr>\n",
              "      <th>1</th>\n",
              "      <td>44895.0</td>\n",
              "      <td>0.012152</td>\n",
              "      <td>-1.455185</td>\n",
              "      <td>-0.767147</td>\n",
              "      <td>1.650295</td>\n",
              "      <td>-0.392636</td>\n",
              "      <td>0.127562</td>\n",
              "      <td>0.686100</td>\n",
              "      <td>0.029960</td>\n",
              "      <td>-0.206460</td>\n",
              "      <td>-0.584509</td>\n",
              "      <td>1.470520</td>\n",
              "      <td>0.151597</td>\n",
              "      <td>-0.912689</td>\n",
              "      <td>-0.418037</td>\n",
              "      <td>0.884949</td>\n",
              "      <td>0.768840</td>\n",
              "      <td>0.449011</td>\n",
              "      <td>0.762987</td>\n",
              "      <td>-0.740331</td>\n",
              "      <td>1.028503</td>\n",
              "      <td>0.261751</td>\n",
              "      <td>-0.605181</td>\n",
              "      <td>-0.550574</td>\n",
              "      <td>-0.423208</td>\n",
              "      <td>0.194550</td>\n",
              "      <td>-0.475326</td>\n",
              "      <td>-0.067439</td>\n",
              "      <td>0.138489</td>\n",
              "      <td>594.64</td>\n",
              "      <td>0</td>\n",
              "    </tr>\n",
              "    <tr>\n",
              "      <th>2</th>\n",
              "      <td>87694.0</td>\n",
              "      <td>-5.210295</td>\n",
              "      <td>4.916165</td>\n",
              "      <td>-3.063086</td>\n",
              "      <td>-3.137821</td>\n",
              "      <td>1.422862</td>\n",
              "      <td>-0.653995</td>\n",
              "      <td>2.342638</td>\n",
              "      <td>-1.089480</td>\n",
              "      <td>5.516694</td>\n",
              "      <td>9.008699</td>\n",
              "      <td>0.685205</td>\n",
              "      <td>-1.155671</td>\n",
              "      <td>-2.328039</td>\n",
              "      <td>-1.833866</td>\n",
              "      <td>0.066205</td>\n",
              "      <td>-1.158140</td>\n",
              "      <td>-1.730954</td>\n",
              "      <td>0.061543</td>\n",
              "      <td>-0.263387</td>\n",
              "      <td>3.635146</td>\n",
              "      <td>-0.875794</td>\n",
              "      <td>0.252991</td>\n",
              "      <td>-0.175645</td>\n",
              "      <td>-0.466692</td>\n",
              "      <td>0.933246</td>\n",
              "      <td>0.061088</td>\n",
              "      <td>2.140386</td>\n",
              "      <td>0.469747</td>\n",
              "      <td>0.77</td>\n",
              "      <td>0</td>\n",
              "    </tr>\n",
              "    <tr>\n",
              "      <th>3</th>\n",
              "      <td>49717.0</td>\n",
              "      <td>1.077482</td>\n",
              "      <td>-1.200155</td>\n",
              "      <td>-0.847116</td>\n",
              "      <td>-0.861783</td>\n",
              "      <td>-0.030056</td>\n",
              "      <td>0.774165</td>\n",
              "      <td>-0.207865</td>\n",
              "      <td>0.064585</td>\n",
              "      <td>-0.926547</td>\n",
              "      <td>0.670747</td>\n",
              "      <td>-0.405160</td>\n",
              "      <td>0.041336</td>\n",
              "      <td>0.125005</td>\n",
              "      <td>0.235264</td>\n",
              "      <td>-0.314500</td>\n",
              "      <td>-1.353234</td>\n",
              "      <td>-0.265512</td>\n",
              "      <td>1.274301</td>\n",
              "      <td>0.060478</td>\n",
              "      <td>-0.098993</td>\n",
              "      <td>-0.372450</td>\n",
              "      <td>-0.897202</td>\n",
              "      <td>-0.364517</td>\n",
              "      <td>-1.661084</td>\n",
              "      <td>0.483215</td>\n",
              "      <td>1.192319</td>\n",
              "      <td>-0.095543</td>\n",
              "      <td>-0.000973</td>\n",
              "      <td>194.98</td>\n",
              "      <td>0</td>\n",
              "    </tr>\n",
              "    <tr>\n",
              "      <th>4</th>\n",
              "      <td>107396.0</td>\n",
              "      <td>-0.065234</td>\n",
              "      <td>0.484980</td>\n",
              "      <td>2.041105</td>\n",
              "      <td>-0.063453</td>\n",
              "      <td>-0.742723</td>\n",
              "      <td>-0.721074</td>\n",
              "      <td>0.060485</td>\n",
              "      <td>-0.071856</td>\n",
              "      <td>1.925223</td>\n",
              "      <td>-1.287062</td>\n",
              "      <td>0.865689</td>\n",
              "      <td>-1.498490</td>\n",
              "      <td>2.609747</td>\n",
              "      <td>0.910371</td>\n",
              "      <td>-0.431507</td>\n",
              "      <td>0.042331</td>\n",
              "      <td>0.267799</td>\n",
              "      <td>0.164484</td>\n",
              "      <td>-1.129888</td>\n",
              "      <td>-0.132013</td>\n",
              "      <td>0.086376</td>\n",
              "      <td>0.629758</td>\n",
              "      <td>0.182024</td>\n",
              "      <td>0.818588</td>\n",
              "      <td>-0.751102</td>\n",
              "      <td>-0.583497</td>\n",
              "      <td>0.107438</td>\n",
              "      <td>0.075418</td>\n",
              "      <td>30.24</td>\n",
              "      <td>0</td>\n",
              "    </tr>\n",
              "  </tbody>\n",
              "</table>\n",
              "</div>"
            ],
            "text/plain": [
              "       Time        V1        V2        V3  ...       V27       V28  Amount  Class\n",
              "0  155350.0  1.692558 -0.683299 -0.828447  ...  0.017477 -0.023034  154.00      0\n",
              "1   44895.0  0.012152 -1.455185 -0.767147  ... -0.067439  0.138489  594.64      0\n",
              "2   87694.0 -5.210295  4.916165 -3.063086  ...  2.140386  0.469747    0.77      0\n",
              "3   49717.0  1.077482 -1.200155 -0.847116  ... -0.095543 -0.000973  194.98      0\n",
              "4  107396.0 -0.065234  0.484980  2.041105  ...  0.107438  0.075418   30.24      0\n",
              "\n",
              "[5 rows x 31 columns]"
            ]
          },
          "metadata": {
            "tags": []
          },
          "execution_count": 2
        }
      ]
    },
    {
      "cell_type": "code",
      "metadata": {
        "id": "9r8UzSf2o078",
        "colab_type": "code",
        "colab": {
          "base_uri": "https://localhost:8080/",
          "height": 53
        },
        "outputId": "adb3a173-89dc-4e84-9edc-f724286f1bdb"
      },
      "source": [
        "fraud = df.loc[df['Class'] == 1]\n",
        "non_frauds = df.loc[df['Class'] == 0]\n",
        "print(len(fraud))\n",
        "print(len(non_frauds))"
      ],
      "execution_count": 3,
      "outputs": [
        {
          "output_type": "stream",
          "text": [
            "492\n",
            "284315\n"
          ],
          "name": "stdout"
        }
      ]
    },
    {
      "cell_type": "code",
      "metadata": {
        "id": "J8_eOvLOppiV",
        "colab_type": "code",
        "colab": {
          "base_uri": "https://localhost:8080/",
          "height": 283
        },
        "outputId": "6ee64d6c-a098-44c3-f76f-bc3c0245fcf7"
      },
      "source": [
        "ax = fraud.plot.scatter(x='Amount', y='Class', c='Red', label='Fraud')\n",
        "non_frauds.plot.scatter(x='Amount', y='Class', c='Green', label='Correct', ax=ax)\n",
        "plt.show()"
      ],
      "execution_count": 5,
      "outputs": [
        {
          "output_type": "display_data",
          "data": {
            "image/png": "[encoded data removed]",
            "text/plain": [
              "<Figure size 432x288 with 1 Axes>"
            ]
          },
          "metadata": {
            "tags": []
          }
        }
      ]
    },
    {
      "cell_type": "code",
      "metadata": {
        "id": "BGwJzB8zrFzK",
        "colab_type": "code",
        "colab": {
          "base_uri": "https://localhost:8080/",
          "height": 91
        },
        "outputId": "8f3138c3-9f3f-494f-bb1d-89a136ca6b03"
      },
      "source": [
        "from sklearn import linear_model\n",
        "from sklearn.model_selection import train_test_split\n",
        "\n",
        "x = df.iloc[:, :-1]\n",
        "y = df['Class']\n",
        "\n",
        "X_train, X_test, y_train, y_test = train_test_split(x, y, test_size=0.25)\n",
        "logistic = linear_model.LogisticRegression(C=1e5)\n",
        "logistic.fit(X_train, y_train)\n",
        "print(logistic.score(X_test, y_test))"
      ],
      "execution_count": 6,
      "outputs": [
        {
          "output_type": "stream",
          "text": [
            "/usr/local/lib/python3.6/dist-packages/sklearn/linear_model/logistic.py:432: FutureWarning: Default solver will be changed to 'lbfgs' in 0.22. Specify a solver to silence this warning.\n",
            "  FutureWarning)\n"
          ],
          "name": "stderr"
        },
        {
          "output_type": "stream",
          "text": [
            "0.9990028369989608\n"
          ],
          "name": "stdout"
        }
      ]
    },
    {
      "cell_type": "code",
      "metadata": {
        "id": "VfgfhxXKtjHh",
        "colab_type": "code",
        "colab": {
          "base_uri": "https://localhost:8080/",
          "height": 35
        },
        "outputId": "7fc8535f-05f7-4280-ef73-b49bbc7c7d2e"
      },
      "source": [
        "y_prediction = np.array(logistic.predict(X_test))\n",
        "print(y_prediction)"
      ],
      "execution_count": 8,
      "outputs": [
        {
          "output_type": "stream",
          "text": [
            "[0 0 0 ... 0 0 0]\n"
          ],
          "name": "stdout"
        }
      ]
    }
  ]
}